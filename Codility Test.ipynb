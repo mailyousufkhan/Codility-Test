{
 "cells": [
  {
   "cell_type": "markdown",
   "metadata": {},
   "source": [
    "#                                                      Codility Test"
   ]
  },
  {
   "cell_type": "markdown",
   "metadata": {},
   "source": [
    "### Q1. Find the alphabet that appears for the maximum number of times in a given string, if two alphabet occours for the same number of times return the one that occurs first alphabetically, between 'c' and 'e' return c."
   ]
  },
  {
   "cell_type": "code",
   "execution_count": 1,
   "metadata": {},
   "outputs": [
    {
     "name": "stdout",
     "output_type": "stream",
     "text": [
      "[1, 0, 0, 0, 0, 0, 0, 0, 0, 0, 0, 0, 0, 0, 0, 0, 0, 0, 0, 0, 0, 0, 0, 0, 0, 0]\n",
      "[1, 1, 0, 0, 0, 0, 0, 0, 0, 0, 0, 0, 0, 0, 0, 0, 0, 0, 0, 0, 0, 0, 0, 0, 0, 0]\n",
      "[1, 1, 1, 0, 0, 0, 0, 0, 0, 0, 0, 0, 0, 0, 0, 0, 0, 0, 0, 0, 0, 0, 0, 0, 0, 0]\n",
      "[1, 1, 1, 1, 0, 0, 0, 0, 0, 0, 0, 0, 0, 0, 0, 0, 0, 0, 0, 0, 0, 0, 0, 0, 0, 0]\n",
      "[1, 1, 1, 1, 1, 0, 0, 0, 0, 0, 0, 0, 0, 0, 0, 0, 0, 0, 0, 0, 0, 0, 0, 0, 0, 0]\n",
      "[1, 1, 1, 1, 1, 1, 0, 0, 0, 0, 0, 0, 0, 0, 0, 0, 0, 0, 0, 0, 0, 0, 0, 0, 0, 0]\n",
      "[1, 1, 1, 1, 1, 1, 1, 0, 0, 0, 0, 0, 0, 0, 0, 0, 0, 0, 0, 0, 0, 0, 0, 0, 0, 0]\n",
      "[1, 1, 1, 1, 1, 1, 1, 1, 0, 0, 0, 0, 0, 0, 0, 0, 0, 0, 0, 0, 0, 0, 0, 0, 0, 0]\n",
      "[1, 1, 1, 1, 1, 1, 1, 1, 1, 0, 0, 0, 0, 0, 0, 0, 0, 0, 0, 0, 0, 0, 0, 0, 0, 0]\n",
      "[1, 1, 1, 1, 1, 1, 1, 1, 1, 1, 0, 0, 0, 0, 0, 0, 0, 0, 0, 0, 0, 0, 0, 0, 0, 0]\n",
      "[1, 1, 1, 1, 1, 1, 1, 1, 1, 1, 1, 0, 0, 0, 0, 0, 0, 0, 0, 0, 0, 0, 0, 0, 0, 0]\n",
      "[1, 1, 1, 1, 1, 1, 1, 1, 1, 1, 1, 1, 0, 0, 0, 0, 0, 0, 0, 0, 0, 0, 0, 0, 0, 0]\n",
      "[1, 1, 1, 1, 1, 1, 1, 1, 1, 1, 1, 1, 1, 0, 0, 0, 0, 0, 0, 0, 0, 0, 0, 0, 0, 0]\n",
      "[1, 1, 1, 1, 1, 1, 1, 1, 1, 1, 1, 1, 1, 1, 0, 0, 0, 0, 0, 0, 0, 0, 0, 0, 0, 0]\n",
      "[1, 1, 1, 1, 1, 1, 1, 1, 1, 1, 1, 1, 1, 1, 1, 0, 0, 0, 0, 0, 0, 0, 0, 0, 0, 0]\n",
      "[1, 1, 1, 1, 1, 1, 1, 1, 1, 1, 1, 1, 1, 1, 1, 1, 0, 0, 0, 0, 0, 0, 0, 0, 0, 0]\n",
      "[1, 1, 1, 1, 1, 1, 1, 1, 1, 1, 1, 1, 1, 1, 1, 1, 1, 0, 0, 0, 0, 0, 0, 0, 0, 0]\n",
      "[1, 1, 1, 1, 1, 1, 1, 1, 1, 1, 1, 1, 1, 1, 1, 1, 1, 1, 0, 0, 0, 0, 0, 0, 0, 0]\n",
      "[1, 1, 1, 1, 1, 1, 1, 1, 1, 1, 1, 1, 1, 1, 1, 1, 1, 1, 1, 0, 0, 0, 0, 0, 0, 0]\n",
      "[1, 1, 1, 1, 1, 1, 1, 1, 1, 1, 1, 1, 1, 1, 1, 1, 1, 1, 1, 1, 0, 0, 0, 0, 0, 0]\n",
      "[1, 1, 1, 1, 1, 1, 1, 1, 1, 1, 1, 1, 1, 1, 1, 1, 1, 1, 1, 1, 1, 0, 0, 0, 0, 0]\n",
      "[1, 1, 1, 1, 1, 1, 1, 1, 1, 1, 1, 1, 1, 1, 1, 1, 1, 1, 1, 1, 1, 1, 0, 0, 0, 0]\n",
      "[1, 1, 1, 1, 1, 1, 1, 1, 1, 1, 1, 1, 1, 1, 1, 1, 1, 1, 1, 1, 1, 1, 1, 0, 0, 0]\n",
      "[1, 1, 1, 1, 1, 1, 1, 1, 1, 1, 1, 1, 1, 1, 1, 1, 1, 1, 1, 1, 1, 1, 1, 1, 0, 0]\n",
      "[1, 1, 1, 1, 1, 1, 1, 1, 1, 1, 1, 1, 1, 1, 1, 1, 1, 1, 1, 1, 1, 1, 1, 1, 1, 0]\n",
      "[1, 1, 1, 1, 1, 1, 1, 1, 1, 1, 1, 1, 1, 1, 1, 1, 1, 1, 1, 1, 1, 1, 1, 1, 1, 1]\n",
      "a 1\n",
      "[0, 0, 0, 0, 0, 0, 0, 1, 0, 0, 0, 0, 0, 0, 0, 0, 0, 0, 0, 0, 0, 0, 0, 0, 0, 0]\n",
      "[0, 0, 0, 0, 1, 0, 0, 1, 0, 0, 0, 0, 0, 0, 0, 0, 0, 0, 0, 0, 0, 0, 0, 0, 0, 0]\n",
      "[0, 0, 0, 0, 1, 0, 0, 1, 0, 0, 0, 1, 0, 0, 0, 0, 0, 0, 0, 0, 0, 0, 0, 0, 0, 0]\n",
      "[0, 0, 0, 0, 1, 0, 0, 1, 0, 0, 0, 2, 0, 0, 0, 0, 0, 0, 0, 0, 0, 0, 0, 0, 0, 0]\n",
      "[0, 0, 0, 0, 1, 0, 0, 1, 0, 0, 0, 2, 0, 0, 1, 0, 0, 0, 0, 0, 0, 0, 0, 0, 0, 0]\n",
      "e 1\n",
      "l 2\n"
     ]
    },
    {
     "data": {
      "text/plain": [
       "'l'"
      ]
     },
     "execution_count": 1,
     "metadata": {},
     "output_type": "execute_result"
    }
   ],
   "source": [
    "def solution(S):\n",
    "    occurrences = [0] * 26\n",
    "\n",
    "    for i in range(len(S)):\n",
    "        occurrences[ord(S[i]) - ord('a')] += 1\n",
    "        print(occurrences)\n",
    "    best_char = 'a'\n",
    "    best_res = 0\n",
    "\n",
    "    for i in range(0, 25):\n",
    "        if occurrences[i] > best_res:\n",
    "            best_char = chr(ord('a') + i)\n",
    "            best_res = occurrences[i]\n",
    "            print(best_char,occurrences[i])\n",
    "    return best_char\n",
    "solution('abcdefghijklmnopqrstuvwxyz')\n",
    "solution(\"hello\")"
   ]
  },
  {
   "cell_type": "markdown",
   "metadata": {},
   "source": [
    "### Q2. Define a function such that if we pass names of employee's separated by ; as a string along with company name it returns email address's as in example below, if two people have same email address make them distinct as x_y_z@example.com and x_y_z2@example.com.\n",
    "\n",
    "#### String Passed= \"John Doe; Peter Benjamin Parker; Mary Jane Watson-Parker; John Elvis Doe; John Evan Doe; Jane Doe; Peter Brian Parker\"\n",
    "\n",
    "#### Output Returned= \"john_doe@example.com; peter_b_parker@example.com; mary_j_watsonparker@example.com; john_e_doe@example.com; john_e_doe2@example.com; jane_doe@example.com; peter_b_parker2@example.com\""
   ]
  },
  {
   "cell_type": "code",
   "execution_count": 2,
   "metadata": {
    "scrolled": true
   },
   "outputs": [
    {
     "data": {
      "text/plain": [
       "'john_doe@example.com; peter_b_parker@example.com; mary_j_watsonparker@example.com; john_e_doe@example.com; john_e_doe2@example.com; jane_doe@example.com; peter_b_parker2@example.com'"
      ]
     },
     "execution_count": 2,
     "metadata": {},
     "output_type": "execute_result"
    }
   ],
   "source": [
    "# you can write to stdout for debugging purposes, e.g.\n",
    "# print(\"this is a debug message\")\n",
    "\n",
    "def solution(S,C):\n",
    "    \n",
    "    x=S.count(';')\n",
    "    y=x+1\n",
    "    #c=\"example\"\n",
    "    \n",
    "    firstname  = [0] * y\n",
    "    middlename = [0] * y\n",
    "    lastname   = [0] * y\n",
    "    email      = [0] * y\n",
    "    \n",
    "    list = S.split(\";\")\n",
    "    \n",
    "    for i in range(0, y):\n",
    "        firstname[i] = ''\n",
    "        firstname[i] = list[i].split()[0]\n",
    "        middlename[i] = ''\n",
    "        middlename[i] = list[i].split()[1] \n",
    "        length = len(list[i].split())\n",
    "        if length == 3:\n",
    "            lastname[i]= list[i].split()[2]\n",
    "            middlename[i] = middlename[i][0]\n",
    "        else:\n",
    "            lastname[i]=''\n",
    "        firstname[i]  = firstname[i].replace(\"-\", \"\").lower()\n",
    "        middlename[i] = middlename[i].replace(\"-\", \"\").lower()\n",
    "        lastname[i]   = lastname[i].replace(\"-\", \"\").lower()\n",
    "        if length == 3:\n",
    "            email[i] =  firstname[i]+\"_\"+middlename[i]+\"_\"+lastname[i]+\"@\"+C.lower()+\".com\"\n",
    "        else:\n",
    "            email[i] = firstname[i]+\"_\"+middlename[i]+\"@\"+C.lower()+\".com\"\n",
    "        \n",
    "    RS = \"\"\n",
    "    for i in range(0, y):\n",
    "        cn=0\n",
    "        for j in range(0, y):\n",
    "            if email[j] ==  email[i] and i != j:\n",
    "                cn+=1\n",
    "                email[j] = firstname[j]+\"_\"+middlename[j]+\"_\"+lastname[j]+str(cn+1)+\"@\"+C.lower()+\".com\"\n",
    "        RS += email[i]+\"; \"\n",
    "    RS=RS[:-2] \n",
    "    \n",
    "    return RS \n",
    "   \n",
    "\n",
    "        \n",
    "    pass\n",
    "\n",
    "\n",
    "solution(\"John Doe; Peter Benjamin Parker; Mary Jane Watson-Parker; John Elvis Doe; John Evan Doe; Jane Doe; Peter Brian Parker\",\"Example\")"
   ]
  },
  {
   "cell_type": "markdown",
   "metadata": {},
   "source": [
    "### Q3. Define a function that returns the Day after a specific number of days from days.\n",
    "###        'Mon', 'Tue', 'Wed', 'Thu', 'Fri', 'Sat', 'Sun'\n",
    "#### Day=\"Wed\" after_days = 2, Returns \"Fri\"\n",
    "#### Day=Sat\"  after_days = 23, Return \"Mon\""
   ]
  },
  {
   "cell_type": "code",
   "execution_count": 3,
   "metadata": {},
   "outputs": [
    {
     "data": {
      "text/plain": [
       "'Mon'"
      ]
     },
     "execution_count": 3,
     "metadata": {},
     "output_type": "execute_result"
    }
   ],
   "source": [
    "def solution(S, K):\n",
    "    Day = ['Mon', 'Tue', 'Wed', 'Thu', 'Fri', 'Sat', 'Sun']\n",
    "    rem=K%7\n",
    "    for i in range (0, 7):\n",
    "        if S == Day[i]:\n",
    "            cnt = i + rem\n",
    "            if cnt > 6:\n",
    "                cnt = cnt%7\n",
    "            else:\n",
    "                cnt=cnt\n",
    "    return Day[cnt]\n",
    "            \n",
    "            \n",
    "    # write your code in Python 3.6\n",
    "    pass\n",
    "solution(\"Sat\",23)"
   ]
  },
  {
   "cell_type": "markdown",
   "metadata": {},
   "source": [
    "### Q4. Define a function to find square root between two numbers.\n",
    "\n",
    "#### for A=10, B=20, max_square_roots number is 16, i.e. 16 to 4 to 2 i.e returns 2 as total square roots\n",
    "\n",
    "#### for A=6000, B=7000, max_square_roots number is 6561, i.e 6561 to 81 to 9 to 3 as total square roots"
   ]
  },
  {
   "cell_type": "code",
   "execution_count": 4,
   "metadata": {},
   "outputs": [
    {
     "data": {
      "text/plain": [
       "3"
      ]
     },
     "execution_count": 4,
     "metadata": {},
     "output_type": "execute_result"
    }
   ],
   "source": [
    "def solution(A, B):\n",
    "    import math\n",
    "    max=0\n",
    "    for i in range(A,B):\n",
    "        cnt=0\n",
    "        x = math.sqrt(i)   \n",
    "        y=int(x)\n",
    "        if x==y:\n",
    "            cnt+=1\n",
    "            #print(y,cnt)\n",
    "            while True:\n",
    "                z=math.sqrt(y)\n",
    "                q=int(z)\n",
    "                if q==z:\n",
    "                    cnt+=1\n",
    "                y=q\n",
    "                if(y>1 and y<9):\n",
    "                    break\n",
    "        if max<cnt:\n",
    "            max=cnt\n",
    "    return max\n",
    "    # write your code in Python 3.6\n",
    "    pass\n",
    "\n",
    "#solution(10,20)\n",
    "solution(6000,7000)"
   ]
  },
  {
   "cell_type": "markdown",
   "metadata": {},
   "source": [
    "### Q5. Define a function to generate random numbers such that the sum of all random numbers equal to 0.\n",
    "\n",
    "#### for input N =4 generate numbers like [[-10  -3   4   9]]"
   ]
  },
  {
   "cell_type": "code",
   "execution_count": 5,
   "metadata": {},
   "outputs": [
    {
     "name": "stdout",
     "output_type": "stream",
     "text": [
      "[[ 2 -8  6  0]\n",
      " [-5  9 -2 -2]\n",
      " [ 0 -8  1  7]]\n"
     ]
    }
   ],
   "source": [
    "def solution(N):\n",
    "    import numpy as np\n",
    "    arr = np.random.randint(-10, 10, (100, N))\n",
    "    arr1=(arr[arr.sum(1) == 0])\n",
    "    return print(arr1)\n",
    "    \n",
    "    # write your code in Python 3.6\n",
    "    pass\n",
    "solution(4)"
   ]
  }
 ],
 "metadata": {
  "kernelspec": {
   "display_name": "Python 3",
   "language": "python",
   "name": "python3"
  },
  "language_info": {
   "codemirror_mode": {
    "name": "ipython",
    "version": 3
   },
   "file_extension": ".py",
   "mimetype": "text/x-python",
   "name": "python",
   "nbconvert_exporter": "python",
   "pygments_lexer": "ipython3",
   "version": "3.6.8"
  }
 },
 "nbformat": 4,
 "nbformat_minor": 2
}
